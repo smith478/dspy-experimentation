{
 "cells": [
  {
   "cell_type": "markdown",
   "id": "29bd9d99-db3b-4032-b7c8-d06d393e5291",
   "metadata": {},
   "source": [
    "The reference for this notebook is the dspy documentation [here](https://dspy-docs.vercel.app/docs/tutorials/rag)"
   ]
  },
  {
   "cell_type": "code",
   "execution_count": null,
   "id": "3c9b0e0b-8296-40f9-bb02-98aeffe335b6",
   "metadata": {},
   "outputs": [],
   "source": []
  }
 ],
 "metadata": {
  "kernelspec": {
   "display_name": "Python 3 (ipykernel)",
   "language": "python",
   "name": "python3"
  },
  "language_info": {
   "codemirror_mode": {
    "name": "ipython",
    "version": 3
   },
   "file_extension": ".py",
   "mimetype": "text/x-python",
   "name": "python",
   "nbconvert_exporter": "python",
   "pygments_lexer": "ipython3",
   "version": "3.11.9"
  }
 },
 "nbformat": 4,
 "nbformat_minor": 5
}
