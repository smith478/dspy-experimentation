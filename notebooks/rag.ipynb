{
 "cells": [
  {
   "cell_type": "code",
   "execution_count": null,
   "id": "5c39e6a5-63d0-4faa-9ae2-903a09911a7b",
   "metadata": {},
   "outputs": [],
   "source": [
    "from dspy.datasets import HotPotQA\n",
    "import dspy"
   ]
  },
  {
   "cell_type": "markdown",
   "id": "064fdf62-2dc5-4c08-b1f6-722ae9ce9827",
   "metadata": {},
   "source": [
    "## Load the dataset"
   ]
  },
  {
   "cell_type": "code",
   "execution_count": null,
   "id": "2788772b-d6d2-4e56-94c3-75b87492c2c2",
   "metadata": {},
   "outputs": [],
   "source": [
    "dataset = HotPotQA(train_seed=1, test_size=0, train_size=1000)\n",
    "# Tell DSPy that the 'question' field is the input. Any other fields are labels and/or metadata.\n",
    "dataset = [x.with_inputs('question') for x in dataset.train]\n",
    "print(len(dataset))"
   ]
  },
  {
   "cell_type": "code",
   "execution_count": null,
   "id": "31897753-e988-44e5-8fd7-2718c3125613",
   "metadata": {},
   "outputs": [],
   "source": [
    "from dspy.retrieve.qdrant_rm import QdrantRM\n",
    "from qdrant_client import QdrantClient"
   ]
  },
  {
   "cell_type": "code",
   "execution_count": null,
   "id": "d874d5ce-3b6f-430e-98ad-78448983628b",
   "metadata": {},
   "outputs": [],
   "source": [
    "qdrant_client = QdrantClient(\":memory:\")  # In-memory load\n",
    "docs = [x.question + \" -> \" + x.answer for x in dataset]\n",
    "ids = list(range(0,len(docs)))"
   ]
  },
  {
   "cell_type": "code",
   "execution_count": null,
   "id": "e91dbfa6-7f9c-438a-83ca-350ace4dc25c",
   "metadata": {},
   "outputs": [],
   "source": [
    "qdrant_client.add(\n",
    "    collection_name=\"hotpotqa\",\n",
    "    documents=docs,\n",
    "    ids=ids\n",
    "    )"
   ]
  },
  {
   "cell_type": "code",
   "execution_count": null,
   "id": "69d13568-0425-4bbc-a4df-2988ec261a2f",
   "metadata": {},
   "outputs": [],
   "source": [
    "qdrant_retriever_model = QdrantRM(\"hotpotqa\", qdrant_client, k=3)"
   ]
  },
  {
   "cell_type": "code",
   "execution_count": null,
   "id": "b698a8dc-0513-4e3e-abc4-6edf65d60a2a",
   "metadata": {},
   "outputs": [],
   "source": [
    "def get_top_passages(question):\n",
    "    retrieve = dspy.Retrieve(k=3)\n",
    "    topK_passages = retrieve(question, k=3).passages\n",
    "    print(f\"Top {retrieve.k} passages for question: {question} \\n\", '-' * 30, '\\n')\n",
    "    for idx, passage in enumerate(topK_passages):\n",
    "        print(f'{idx+1}]', passage, '\\n')"
   ]
  },
  {
   "cell_type": "code",
   "execution_count": null,
   "id": "e031bd9e-9a87-4e12-b9d0-31f16ad12dfc",
   "metadata": {},
   "outputs": [],
   "source": [
    "dev_example = dataset[100]\n",
    "\n",
    "get_top_passages(dev_example.question)"
   ]
  },
  {
   "cell_type": "code",
   "execution_count": null,
   "id": "1e6bfbb7-df8f-498f-8323-a0150862d4c7",
   "metadata": {},
   "outputs": [],
   "source": []
  }
 ],
 "metadata": {
  "kernelspec": {
   "display_name": "Python 3 (ipykernel)",
   "language": "python",
   "name": "python3"
  },
  "language_info": {
   "codemirror_mode": {
    "name": "ipython",
    "version": 3
   },
   "file_extension": ".py",
   "mimetype": "text/x-python",
   "name": "python",
   "nbconvert_exporter": "python",
   "pygments_lexer": "ipython3",
   "version": "3.11.9"
  }
 },
 "nbformat": 4,
 "nbformat_minor": 5
}
