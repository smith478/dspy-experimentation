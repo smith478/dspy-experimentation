{
 "cells": [
  {
   "cell_type": "markdown",
   "id": "f8c044be-1035-4306-80db-84d1d3c1b4ed",
   "metadata": {},
   "source": [
    "The reference for this notebook is [here](https://medium.com/aimpact-all-things-ai/prompt-like-a-pro-using-dspy-a-guide-to-build-a-better-local-rag-model-using-dspy-qdrant-and-d8011a3942d9#id_token=eyJhbGciOiJSUzI1NiIsImtpZCI6Ijg3YmJlMDgxNWIwNjRlNmQ0NDljYWM5OTlmMGU1MGU3MmEzZTQzNzQiLCJ0eXAiOiJKV1QifQ.eyJpc3MiOiJodHRwczovL2FjY291bnRzLmdvb2dsZS5jb20iLCJhenAiOiIyMTYyOTYwMzU4MzQtazFrNnFlMDYwczJ0cDJhMmphbTRsamRjbXMwMHN0dGcuYXBwcy5nb29nbGV1c2VyY29udGVudC5jb20iLCJhdWQiOiIyMTYyOTYwMzU4MzQtazFrNnFlMDYwczJ0cDJhMmphbTRsamRjbXMwMHN0dGcuYXBwcy5nb29nbGV1c2VyY29udGVudC5jb20iLCJzdWIiOiIxMTQzMDg4NjQ0NjgxMzkxMjUxNjAiLCJlbWFpbCI6ImRzbWl0aC5zbWl0aDg2NEBnbWFpbC5jb20iLCJlbWFpbF92ZXJpZmllZCI6dHJ1ZSwibmJmIjoxNzIwMjkwNDM1LCJuYW1lIjoiRGFuaWVsIFNtaXRoIiwicGljdHVyZSI6Imh0dHBzOi8vbGgzLmdvb2dsZXVzZXJjb250ZW50LmNvbS9hL0FDZzhvY0tCWm9sTU8tUkk4VzYySEhTUl9KMFdIS3lFUkdoR1k0Njlsa0FNMEZTSmdSbFhMdz1zOTYtYyIsImdpdmVuX25hbWUiOiJEYW5pZWwiLCJmYW1pbHlfbmFtZSI6IlNtaXRoIiwiaWF0IjoxNzIwMjkwNzM1LCJleHAiOjE3MjAyOTQzMzUsImp0aSI6IjQ2MzJkYTY1Yjc0OWY5MWUxOGJhZTVjMzhkN2YzY2I0ZmJiNzRjYTIifQ.aP4dZS1Pej36uxs6rJo1NHDlRPKSZV26gJWH5UTWVuVtWJ46fQ2LyvaCGG2my4zQnzu_2RB2V3kPREFz8tP8HwrLkwEa0oWIz-uko6le7F67xBRdTWylpnaqPJtGJeZua9QKqwIZTAe9kZPiN8wIx-v7QwriOGqM7AMi-gPBRXEMCH6ToMoCdDp1XH0a-mLtK8FIGUK8V2EFUsOxRXv2vJmo6NnuwxxHtnH36hphhS6WRToVBxTI7Lm85Xr0IJtoDuhVX8VXlYhVMk8lT3srQLv15TiykFFKZFwvCfmr9WzhOmKiQBlZTIIl8ff2_MMVa7Qk7YO3fFuDv6E2WOSYOQ)"
   ]
  },
  {
   "cell_type": "code",
   "execution_count": null,
   "id": "5c39e6a5-63d0-4faa-9ae2-903a09911a7b",
   "metadata": {},
   "outputs": [],
   "source": [
    "from dspy.datasets import HotPotQA\n",
    "import dspy"
   ]
  },
  {
   "cell_type": "markdown",
   "id": "064fdf62-2dc5-4c08-b1f6-722ae9ce9827",
   "metadata": {},
   "source": [
    "## Load the dataset"
   ]
  },
  {
   "cell_type": "code",
   "execution_count": null,
   "id": "2788772b-d6d2-4e56-94c3-75b87492c2c2",
   "metadata": {},
   "outputs": [],
   "source": [
    "dataset = HotPotQA(train_seed=1, test_size=0, train_size=1000)\n",
    "# Tell DSPy that the 'question' field is the input. Any other fields are labels and/or metadata.\n",
    "dataset = [x.with_inputs('question') for x in dataset.train]\n",
    "print(len(dataset))"
   ]
  },
  {
   "cell_type": "code",
   "execution_count": null,
   "id": "31897753-e988-44e5-8fd7-2718c3125613",
   "metadata": {},
   "outputs": [],
   "source": [
    "from dspy.retrieve.qdrant_rm import QdrantRM\n",
    "from qdrant_client import QdrantClient"
   ]
  },
  {
   "cell_type": "code",
   "execution_count": null,
   "id": "d874d5ce-3b6f-430e-98ad-78448983628b",
   "metadata": {},
   "outputs": [],
   "source": [
    "qdrant_client = QdrantClient(\":memory:\")  # In-memory load\n",
    "docs = [x.question + \" -> \" + x.answer for x in dataset]\n",
    "ids = list(range(0,len(docs)))"
   ]
  },
  {
   "cell_type": "code",
   "execution_count": null,
   "id": "e91dbfa6-7f9c-438a-83ca-350ace4dc25c",
   "metadata": {},
   "outputs": [],
   "source": [
    "qdrant_client.add(\n",
    "    collection_name=\"hotpotqa\",\n",
    "    documents=docs,\n",
    "    ids=ids\n",
    "    )"
   ]
  },
  {
   "cell_type": "markdown",
   "id": "92a62911-8dc4-468b-99e2-19cd06a0bf37",
   "metadata": {},
   "source": [
    "## Define the retriever"
   ]
  },
  {
   "cell_type": "code",
   "execution_count": null,
   "id": "69d13568-0425-4bbc-a4df-2988ec261a2f",
   "metadata": {},
   "outputs": [],
   "source": [
    "qdrant_retriever_model = QdrantRM(\"hotpotqa\", qdrant_client, k=3)"
   ]
  },
  {
   "cell_type": "code",
   "execution_count": null,
   "id": "836a52f4-e43a-4a5d-857f-022a80cea4c1",
   "metadata": {},
   "outputs": [],
   "source": [
    "dspy.settings.configure(rm=qdrant_retriever_model)"
   ]
  },
  {
   "cell_type": "code",
   "execution_count": null,
   "id": "b698a8dc-0513-4e3e-abc4-6edf65d60a2a",
   "metadata": {},
   "outputs": [],
   "source": [
    "def get_top_passages(question):\n",
    "    retrieve = dspy.Retrieve(k=3)\n",
    "    topK_passages = retrieve(question, k=3).passages\n",
    "    print(f\"Top {retrieve.k} passages for question: {question} \\n\", '-' * 30, '\\n')\n",
    "    for idx, passage in enumerate(topK_passages):\n",
    "        print(f'{idx+1}]', passage, '\\n')"
   ]
  },
  {
   "cell_type": "code",
   "execution_count": null,
   "id": "e031bd9e-9a87-4e12-b9d0-31f16ad12dfc",
   "metadata": {},
   "outputs": [],
   "source": [
    "dev_example = dataset[100]\n",
    "\n",
    "get_top_passages(dev_example.question)"
   ]
  },
  {
   "cell_type": "markdown",
   "id": "62e86553-0463-4699-a031-01250d234853",
   "metadata": {},
   "source": [
    "## Initialize Llama3 Model Using DSPy-Ollama Integration"
   ]
  },
  {
   "cell_type": "code",
   "execution_count": null,
   "id": "1e6bfbb7-df8f-498f-8323-a0150862d4c7",
   "metadata": {},
   "outputs": [],
   "source": [
    "ollama_model = dspy.OllamaLocal(model=\"llama3\",model_type='text',\n",
    "                                max_tokens=350,\n",
    "                                temperature=0.1,\n",
    "                                top_p=0.8, frequency_penalty=1.17, top_k=40)"
   ]
  },
  {
   "cell_type": "code",
   "execution_count": null,
   "id": "ef557dc7-4f72-4029-bf23-b52733b96d1c",
   "metadata": {},
   "outputs": [],
   "source": [
    "ollama_model(\"tell me about interstellar's plot\")"
   ]
  },
  {
   "cell_type": "code",
   "execution_count": null,
   "id": "8b9df31d-dc08-46fe-8f6d-a31b2f9a430e",
   "metadata": {},
   "outputs": [],
   "source": [
    "dspy.settings.configure(lm=ollama_model, rm=qdrant_retriever_model)"
   ]
  },
  {
   "cell_type": "markdown",
   "id": "726a68ef-ee92-4676-a911-d4f8c5227a00",
   "metadata": {},
   "source": [
    "## Define Signatures for Input and Output\n",
    "\n",
    "### TODO \n",
    "- Add dspy assertions to enforce the output to be a list of classes"
   ]
  },
  {
   "cell_type": "code",
   "execution_count": null,
   "id": "fb2b8ce0-6dd9-48e3-8e6c-1f5f6456d7a9",
   "metadata": {},
   "outputs": [],
   "source": [
    "# class RetrieveLabelCandidates(dspy.Signature):\n",
    "#     \"\"\"Retrieve relevant label candidates for a given text.\"\"\"\n",
    "#     text = dspy.InputField()\n",
    "#     label_candidates = dspy.OutputField(desc=\"List of potential labels for the given text\")\n",
    "\n",
    "class ClassifyText(dspy.Signature):\n",
    "    \"\"\"Classify the text into multiple labels from the given candidates.\"\"\"\n",
    "    text = dspy.InputField()\n",
    "    label_candidates = dspy.InputField(desc=\"List of possible labels for the text\")\n",
    "    labels = dspy.OutputField(desc=\"List of applicable labels for the text\")"
   ]
  },
  {
   "cell_type": "code",
   "execution_count": null,
   "id": "49d3af80-f476-4457-a4a6-2c43943ba2ac",
   "metadata": {},
   "outputs": [],
   "source": [
    "ct = ClassifyText(text = , label_candidates = , labels = )"
   ]
  },
  {
   "cell_type": "code",
   "execution_count": null,
   "id": "aa077f98-e746-43b5-8377-c37f432a9e77",
   "metadata": {},
   "outputs": [],
   "source": [
    "# class GenerateAnswer(dspy.Signature):\n",
    "#     \"\"\"Answer questions with short factoid answers.\"\"\"\n",
    "\n",
    "#     context = dspy.InputField(desc=\"may contain relevant facts or answer keywords\")\n",
    "#     question = dspy.InputField()\n",
    "#     answer = dspy.OutputField(desc=\"an answer between 1 to 10 words\")"
   ]
  },
  {
   "cell_type": "code",
   "execution_count": null,
   "id": "680c9861-f299-45c9-9486-2057e4167daf",
   "metadata": {},
   "outputs": [],
   "source": [
    "# ga = GenerateAnswer(context=\"My name is sachin and I like writing blogs\", question=\"What is my name?\", answer=\"Sachin\")\n",
    "# print(ga.model_construct)"
   ]
  },
  {
   "cell_type": "markdown",
   "id": "4c53fe28-cbfe-4444-9ae0-eaf5a60ff7db",
   "metadata": {},
   "source": [
    "## Create a DSPy CoT Module"
   ]
  },
  {
   "cell_type": "code",
   "execution_count": null,
   "id": "dfa94328-7c0a-4c4f-bafc-5b8023352156",
   "metadata": {},
   "outputs": [],
   "source": [
    "class RAGMultiLabelClassifier(dspy.Module):\n",
    "    def __init__(self, num_candidates=5):\n",
    "        super().__init__()\n",
    "        self.retrieve = dspy.Retrieve(k=num_candidates)\n",
    "        self.classify = dspy.Predict(ClassifyText)\n",
    "        self.num_candidates = num_candidates\n",
    "\n",
    "    def forward(self, text):\n",
    "        # Retrieve relevant documents\n",
    "        retrieved_docs = self.retrieve(text).passages\n",
    "\n",
    "        # Generate label candidates\n",
    "        candidate_result = self.generate_candidates(text=text)\n",
    "        label_candidates = candidate_result.label_candidates[:self.num_candidates]\n",
    "\n",
    "        # Classify text\n",
    "        classification_result = self.classify(text=text, label_candidates=label_candidates)\n",
    "        return classification_result.labels"
   ]
  },
  {
   "cell_type": "code",
   "execution_count": null,
   "id": "fb34553d-b349-4c72-a12d-b28bfa89b8fc",
   "metadata": {},
   "outputs": [],
   "source": []
  },
  {
   "cell_type": "code",
   "execution_count": null,
   "id": "cb72990e-df0c-4e8d-89a3-ca3344b8a0b5",
   "metadata": {},
   "outputs": [],
   "source": [
    "# class RAG(dspy.Module):\n",
    "#     def __init__(self, num_passages=3):\n",
    "#         super().__init__()\n",
    "#         self.retrieve = dspy.Retrieve(k=num_passages)\n",
    "#         self.generate_answer = dspy.ChainOfThought(GenerateAnswer)\n",
    "\n",
    "#     def forward(self, question):\n",
    "#         context = self.retrieve(question).passages\n",
    "#         prediction = self.generate_answer(context=context, question=question)\n",
    "#         return dspy.Prediction(context=context, answer=prediction.answer)"
   ]
  },
  {
   "cell_type": "code",
   "execution_count": null,
   "id": "c764e304-2bc7-4c49-9495-79166f1414a0",
   "metadata": {},
   "outputs": [],
   "source": [
    "uncompiled_rag = RAG()"
   ]
  },
  {
   "cell_type": "code",
   "execution_count": null,
   "id": "bb1ce32f-045d-4709-a5c1-fdf19b22ecdd",
   "metadata": {},
   "outputs": [],
   "source": [
    "my_question = \"is Bank of America Tower taller than empire state building?\"\n",
    "response = uncompiled_rag(my_question)\n",
    "print(response.answer)"
   ]
  },
  {
   "cell_type": "code",
   "execution_count": null,
   "id": "713af3f9-6cde-446c-ad56-221abd1f22bc",
   "metadata": {},
   "outputs": [],
   "source": [
    "ollama_model.inspect_history(n=1)"
   ]
  },
  {
   "cell_type": "code",
   "execution_count": null,
   "id": "50860a83-49a6-47bc-8c02-1f66a09af941",
   "metadata": {},
   "outputs": [],
   "source": [
    "my_question = \"Was George Alan O'Dowd the most popular in the late 2000s with his rock band?\"\n",
    "response = uncompiled_rag(my_question)\n",
    "print(response.answer)"
   ]
  },
  {
   "cell_type": "code",
   "execution_count": null,
   "id": "d24c5861-ac2d-427b-bf8f-f9db8b28697b",
   "metadata": {},
   "outputs": [],
   "source": [
    "ollama_model.inspect_history(n=1)"
   ]
  },
  {
   "cell_type": "code",
   "execution_count": null,
   "id": "3f49bea9-df14-4b2b-9c9b-12232fb49872",
   "metadata": {},
   "outputs": [],
   "source": []
  }
 ],
 "metadata": {
  "kernelspec": {
   "display_name": "Python 3 (ipykernel)",
   "language": "python",
   "name": "python3"
  },
  "language_info": {
   "codemirror_mode": {
    "name": "ipython",
    "version": 3
   },
   "file_extension": ".py",
   "mimetype": "text/x-python",
   "name": "python",
   "nbconvert_exporter": "python",
   "pygments_lexer": "ipython3",
   "version": "3.11.9"
  }
 },
 "nbformat": 4,
 "nbformat_minor": 5
}
