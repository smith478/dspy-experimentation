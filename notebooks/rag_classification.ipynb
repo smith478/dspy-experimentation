{
 "cells": [
  {
   "cell_type": "markdown",
   "id": "f8c044be-1035-4306-80db-84d1d3c1b4ed",
   "metadata": {},
   "source": [
    "The reference for this notebook is [here](https://medium.com/aimpact-all-things-ai/prompt-like-a-pro-using-dspy-a-guide-to-build-a-better-local-rag-model-using-dspy-qdrant-and-d8011a3942d9#id_token=eyJhbGciOiJSUzI1NiIsImtpZCI6Ijg3YmJlMDgxNWIwNjRlNmQ0NDljYWM5OTlmMGU1MGU3MmEzZTQzNzQiLCJ0eXAiOiJKV1QifQ.eyJpc3MiOiJodHRwczovL2FjY291bnRzLmdvb2dsZS5jb20iLCJhenAiOiIyMTYyOTYwMzU4MzQtazFrNnFlMDYwczJ0cDJhMmphbTRsamRjbXMwMHN0dGcuYXBwcy5nb29nbGV1c2VyY29udGVudC5jb20iLCJhdWQiOiIyMTYyOTYwMzU4MzQtazFrNnFlMDYwczJ0cDJhMmphbTRsamRjbXMwMHN0dGcuYXBwcy5nb29nbGV1c2VyY29udGVudC5jb20iLCJzdWIiOiIxMTQzMDg4NjQ0NjgxMzkxMjUxNjAiLCJlbWFpbCI6ImRzbWl0aC5zbWl0aDg2NEBnbWFpbC5jb20iLCJlbWFpbF92ZXJpZmllZCI6dHJ1ZSwibmJmIjoxNzIwMjkwNDM1LCJuYW1lIjoiRGFuaWVsIFNtaXRoIiwicGljdHVyZSI6Imh0dHBzOi8vbGgzLmdvb2dsZXVzZXJjb250ZW50LmNvbS9hL0FDZzhvY0tCWm9sTU8tUkk4VzYySEhTUl9KMFdIS3lFUkdoR1k0Njlsa0FNMEZTSmdSbFhMdz1zOTYtYyIsImdpdmVuX25hbWUiOiJEYW5pZWwiLCJmYW1pbHlfbmFtZSI6IlNtaXRoIiwiaWF0IjoxNzIwMjkwNzM1LCJleHAiOjE3MjAyOTQzMzUsImp0aSI6IjQ2MzJkYTY1Yjc0OWY5MWUxOGJhZTVjMzhkN2YzY2I0ZmJiNzRjYTIifQ.aP4dZS1Pej36uxs6rJo1NHDlRPKSZV26gJWH5UTWVuVtWJ46fQ2LyvaCGG2my4zQnzu_2RB2V3kPREFz8tP8HwrLkwEa0oWIz-uko6le7F67xBRdTWylpnaqPJtGJeZua9QKqwIZTAe9kZPiN8wIx-v7QwriOGqM7AMi-gPBRXEMCH6ToMoCdDp1XH0a-mLtK8FIGUK8V2EFUsOxRXv2vJmo6NnuwxxHtnH36hphhS6WRToVBxTI7Lm85Xr0IJtoDuhVX8VXlYhVMk8lT3srQLv15TiykFFKZFwvCfmr9WzhOmKiQBlZTIIl8ff2_MMVa7Qk7YO3fFuDv6E2WOSYOQ)"
   ]
  },
  {
   "cell_type": "code",
   "execution_count": null,
   "id": "5c39e6a5-63d0-4faa-9ae2-903a09911a7b",
   "metadata": {},
   "outputs": [],
   "source": [
    "import dspy"
   ]
  },
  {
   "cell_type": "markdown",
   "id": "064fdf62-2dc5-4c08-b1f6-722ae9ce9827",
   "metadata": {},
   "source": [
    "## Load the dataset"
   ]
  },
  {
   "cell_type": "code",
   "execution_count": null,
   "id": "fd7becd5-78e4-4472-8af6-c631b15f4969",
   "metadata": {},
   "outputs": [],
   "source": [
    "classes = [\"pulmonary edema\", \"consolidation\", \"pleural effusion\", \"pneumothorax\", \"cardiomegaly\"]\n",
    "\n",
    "reports = [\n",
    "    \"\"\"\n",
    "    RADIOLOGY REPORT\n",
    "\n",
    "    Exam\n",
    "    PA and lateral chest radiograph (2 views) (2 images) Date: XXXX, XXXX at XXXX hours Indication: Chest pain. Comparison: Chest radiograph from XXXX, XXXX. Findings: The cardiac silhouette is borderline enlarged. Otherwise, there is no focal opacity. Mediastinal contours are within normal limits. There is no large pleural effusion. No pneumothorax. Transcribed by - PSCB Transcription Date - XXXX\n",
    "\n",
    "    IMPRESSION\n",
    "    Borderline enlargement of the cardiac silhouette without acute pulmonary disease. DICTATED BY : Dr. XXXX XXXX XXXX XXXX XXXX ELECTRONICALLY SIGNED XXXX. XXXX XXXX XXXX XXXX XXXX TRANSCRIBED XXXX 11 XXXX XXXX  RADRES XXXX\n",
    "\n",
    "    SIGNATURE\n",
    "    XXXX\n",
    "    \"\"\",\n",
    "    \"\"\"\n",
    "    RADIOLOGY REPORT\n",
    "\n",
    "    Exam\n",
    "    PA and lateral chest radiograph (2 views) (2 images) Date: XXXX, XXXX at XXXX hours Indication: Shortness of breath. Comparison: Chest radiograph from XXXX, XXXX. Findings: There is evidence of bilateral pulmonary edema. The cardiac silhouette is normal. No pleural effusion or pneumothorax. Transcribed by - PSCB Transcription Date - XXXX\n",
    "\n",
    "    IMPRESSION\n",
    "    Bilateral pulmonary edema. No evidence of pleural effusion or pneumothorax. DICTATED BY : Dr. XXXX XXXX XXXX XXXX XXXX ELECTRONICALLY SIGNED XXXX. XXXX XXXX XXXX XXXX XXXX TRANSCRIBED XXXX 11 XXXX XXXX  RADRES XXXX\n",
    "\n",
    "    SIGNATURE\n",
    "    XXXX\n",
    "    \"\"\",\n",
    "    \"\"\"\n",
    "    RADIOLOGY REPORT\n",
    "\n",
    "    Exam\n",
    "    PA and lateral chest radiograph (2 views) (2 images) Date: XXXX, XXXX at XXXX hours Indication: Cough and fever. Comparison: Chest radiograph from XXXX, XXXX. Findings: There is consolidation in the right lower lobe. The cardiac silhouette is normal. No pleural effusion or pneumothorax. Transcribed by - PSCB Transcription Date - XXXX\n",
    "\n",
    "    IMPRESSION\n",
    "    Right lower lobe consolidation. No pleural effusion or pneumothorax. DICTATED BY : Dr. XXXX XXXX XXXX XXXX XXXX ELECTRONICALLY SIGNED XXXX. XXXX XXXX XXXX XXXX XXXX TRANSCRIBED XXXX 11 XXXX XXXX  RADRES XXXX\n",
    "\n",
    "    SIGNATURE\n",
    "    XXXX\n",
    "    \"\"\",\n",
    "    \"\"\"\n",
    "    RADIOLOGY REPORT\n",
    "\n",
    "    Exam\n",
    "    PA and lateral chest radiograph (2 views) (2 images) Date: XXXX, XXXX at XXXX hours Indication: Chest pain. Comparison: Chest radiograph from XXXX, XXXX. Findings: There is a small left pleural effusion. The cardiac silhouette is normal. No pneumothorax. Transcribed by - PSCB Transcription Date - XXXX\n",
    "\n",
    "    IMPRESSION\n",
    "    Small left pleural effusion. No pneumothorax. DICTATED BY : Dr. XXXX XXXX XXXX XXXX XXXX ELECTRONICALLY SIGNED XXXX. XXXX XXXX XXXX XXXX XXXX TRANSCRIBED XXXX 11 XXXX XXXX  RADRES XXXX\n",
    "\n",
    "    SIGNATURE\n",
    "    XXXX\n",
    "    \"\"\",\n",
    "    \"\"\"\n",
    "    RADIOLOGY REPORT\n",
    "\n",
    "    Exam\n",
    "    PA and lateral chest radiograph (2 views) (2 images) Date: XXXX, XXXX at XXXX hours Indication: Trauma. Comparison: Chest radiograph from XXXX, XXXX. Findings: There is a right-sided pneumothorax. The cardiac silhouette is normal. No pleural effusion. Transcribed by - PSCB Transcription Date - XXXX\n",
    "\n",
    "    IMPRESSION\n",
    "    Right-sided pneumothorax. No pleural effusion. DICTATED BY : Dr. XXXX XXXX XXXX XXXX XXXX ELECTRONICALLY SIGNED XXXX. XXXX XXXX XXXX XXXX XXXX TRANSCRIBED XXXX 11 XXXX XXXX  RADRES XXXX\n",
    "\n",
    "    SIGNATURE\n",
    "    XXXX\n",
    "    \"\"\",\n",
    "    \"\"\"\n",
    "    RADIOLOGY REPORT\n",
    "\n",
    "    Exam\n",
    "    PA and lateral chest radiograph (2 views) (2 images) Date: XXXX, XXXX at XXXX hours Indication: Shortness of breath and leg swelling. Comparison: Chest radiograph from XXXX, XXXX. Findings: There is moderate pulmonary edema and bilateral pleural effusion. The cardiac silhouette is enlarged. No pneumothorax. Transcribed by - PSCB Transcription Date - XXXX\n",
    "\n",
    "    IMPRESSION\n",
    "    Moderate pulmonary edema and bilateral pleural effusion. Cardiomegaly. No pneumothorax. DICTATED BY : Dr. XXXX XXXX XXXX XXXX XXXX ELECTRONICALLY SIGNED XXXX. XXXX XXXX XXXX XXXX XXXX TRANSCRIBED XXXX 11 XXXX XXXX  RADRES XXXX\n",
    "\n",
    "    SIGNATURE\n",
    "    XXXX\n",
    "    \"\"\",\n",
    "    \"\"\"\n",
    "    RADIOLOGY REPORT\n",
    "\n",
    "    Exam\n",
    "    PA and lateral chest radiograph (2 views) (2 images) Date: XXXX, XXXX at XXXX hours Indication: Fever and cough. Comparison: Chest radiograph from XXXX, XXXX. Findings: There is a consolidation in the left upper lobe. The cardiac silhouette is normal. No pleural effusion or pneumothorax. Transcribed by - PSCB Transcription Date - XXXX\n",
    "\n",
    "    IMPRESSION\n",
    "    Left upper lobe consolidation. No pleural effusion or pneumothorax. DICTATED BY : Dr. XXXX XXXX XXXX XXXX XXXX ELECTRONICALLY SIGNED XXXX. XXXX XXXX XXXX XXXX XXXX TRANSCRIBED XXXX 11 XXXX XXXX  RADRES XXXX\n",
    "\n",
    "    SIGNATURE\n",
    "    XXXX\n",
    "    \"\"\",\n",
    "    \"\"\"\n",
    "    RADIOLOGY REPORT\n",
    "\n",
    "    Exam\n",
    "    PA and lateral chest radiograph (2 views) (2 images) Date: XXXX, XXXX at XXXX hours Indication: Routine check-up. Comparison: Chest radiograph from XXXX, XXXX. Findings: The cardiac silhouette is normal. No focal opacity. Mediastinal contours are within normal limits. There is no pleural effusion or pneumothorax. Transcribed by - PSCB Transcription Date - XXXX\n",
    "\n",
    "    IMPRESSION\n",
    "    Normal chest radiograph. No abnormalities detected. DICTATED BY : Dr. XXXX XXXX XXXX XXXX XXXX ELECTRONICALLY SIGNED XXXX. XXXX XXXX XXXX XXXX XXXX TRANSCRIBED XXXX 11 XXXX XXXX  RADRES XXXX\n",
    "\n",
    "    SIGNATURE\n",
    "    XXXX\n",
    "    \"\"\",\n",
    "    \"\"\"\n",
    "    RADIOLOGY REPORT\n",
    "\n",
    "    Exam\n",
    "    PA and lateral chest radiograph (2 views) (2 images) Date: XXXX, XXXX at XXXX hours Indication: Dyspnea. Comparison: Chest radiograph from XXXX, XXXX. Findings: There is mild cardiomegaly. Bilateral pleural effusions are present. No evidence of pneumothorax. Transcribed by - PSCB Transcription Date - XXXX\n",
    "\n",
    "    IMPRESSION\n",
    "    Mild cardiomegaly with bilateral pleural effusions. No pneumothorax. DICTATED BY : Dr. XXXX XXXX XXXX XXXX XXXX ELECTRONICALLY SIGNED XXXX. XXXX XXXX XXXX XXXX XXXX TRANSCRIBED XXXX 11 XXXX XXXX  RADRES XXXX\n",
    "\n",
    "    SIGNATURE\n",
    "    XXXX\n",
    "    \"\"\",\n",
    "    \"\"\"\n",
    "    RADIOLOGY REPORT\n",
    "\n",
    "    Exam\n",
    "    PA and lateral chest radiograph (2 views) (2 images) Date: XXXX, XXXX at XXXX hours Indication: Trauma. Comparison: Chest radiograph from XXXX, XXXX. Findings: There is a left-sided pneumothorax. The cardiac silhouette is normal. No pleural effusion. Transcribed by - PSCB Transcription Date - XXXX\n",
    "\n",
    "    IMPRESSION\n",
    "    Left-sided pneumothorax. No pleural effusion. DICTATED BY : Dr. XXXX XXXX XXXX XXXX XXXX ELECTRONICALLY SIGNED XXXX. XXXX XXXX XXXX XXXX XXXX TRANSCRIBED XXXX 11 XXXX XXXX  RADRES XXXX\n",
    "\n",
    "    SIGNATURE\n",
    "    XXXX\n",
    "    \"\"\"\n",
    "]\n",
    "\n",
    "# Ground Truth Labels for each report\n",
    "ground_truth = [\n",
    "    [\"cardiomegaly\"],\n",
    "    [\"pulmonary edema\"],\n",
    "    [\"consolidation\"],\n",
    "    [\"pleural effusion\"],\n",
    "    [\"pneumothorax\"],\n",
    "    [\"pulmonary_edema\", \"pleural effusion\", \"cardiomegaly\"],\n",
    "    [\"consolidation\"],\n",
    "    [],\n",
    "    [\"cardiomegaly\", \"pleural effusion\"],\n",
    "    [\"pneumothorax\"]\n",
    "]"
   ]
  },
  {
   "cell_type": "code",
   "execution_count": null,
   "id": "31897753-e988-44e5-8fd7-2718c3125613",
   "metadata": {},
   "outputs": [],
   "source": [
    "from dspy.retrieve.qdrant_rm import QdrantRM\n",
    "from qdrant_client import QdrantClient"
   ]
  },
  {
   "cell_type": "code",
   "execution_count": null,
   "id": "d874d5ce-3b6f-430e-98ad-78448983628b",
   "metadata": {},
   "outputs": [],
   "source": [
    "qdrant_client = QdrantClient(\":memory:\")  # In-memory load"
   ]
  },
  {
   "cell_type": "code",
   "execution_count": null,
   "id": "3a951880-620a-4c8c-bf89-b7c44bc60203",
   "metadata": {},
   "outputs": [],
   "source": [
    "docs = classes\n",
    "ids = list(range(0,len(docs)))"
   ]
  },
  {
   "cell_type": "code",
   "execution_count": null,
   "id": "e91dbfa6-7f9c-438a-83ca-350ace4dc25c",
   "metadata": {},
   "outputs": [],
   "source": [
    "qdrant_client.add(\n",
    "    collection_name=\"rads\",\n",
    "    documents=docs,\n",
    "    ids=ids\n",
    "    )"
   ]
  },
  {
   "cell_type": "markdown",
   "id": "92a62911-8dc4-468b-99e2-19cd06a0bf37",
   "metadata": {},
   "source": [
    "## Define the retriever"
   ]
  },
  {
   "cell_type": "code",
   "execution_count": null,
   "id": "69d13568-0425-4bbc-a4df-2988ec261a2f",
   "metadata": {},
   "outputs": [],
   "source": [
    "qdrant_retriever_model = QdrantRM(\"rads\", qdrant_client, k=4)"
   ]
  },
  {
   "cell_type": "code",
   "execution_count": null,
   "id": "836a52f4-e43a-4a5d-857f-022a80cea4c1",
   "metadata": {},
   "outputs": [],
   "source": [
    "dspy.settings.configure(rm=qdrant_retriever_model)"
   ]
  },
  {
   "cell_type": "code",
   "execution_count": null,
   "id": "b698a8dc-0513-4e3e-abc4-6edf65d60a2a",
   "metadata": {},
   "outputs": [],
   "source": [
    "def get_top_passages(question):\n",
    "    retrieve = dspy.Retrieve(k=4)\n",
    "    topK_passages = retrieve(question, k=4).passages\n",
    "    print(topK_passages)\n",
    "    print(f\"Top {retrieve.k} passages for question: {question} \\n\", '-' * 30, '\\n')\n",
    "    for idx, passage in enumerate(topK_passages):\n",
    "        print(f'{idx+1}]', passage, '\\n')"
   ]
  },
  {
   "cell_type": "code",
   "execution_count": null,
   "id": "e031bd9e-9a87-4e12-b9d0-31f16ad12dfc",
   "metadata": {},
   "outputs": [],
   "source": [
    "dev_example = reports[1]\n",
    "\n",
    "get_top_passages(dev_example)"
   ]
  },
  {
   "cell_type": "markdown",
   "id": "62e86553-0463-4699-a031-01250d234853",
   "metadata": {},
   "source": [
    "## Initialize Llama3 Model Using DSPy-Ollama Integration"
   ]
  },
  {
   "cell_type": "code",
   "execution_count": null,
   "id": "1e6bfbb7-df8f-498f-8323-a0150862d4c7",
   "metadata": {},
   "outputs": [],
   "source": [
    "ollama_model = dspy.OllamaLocal(model=\"llama3\",model_type='text',\n",
    "                                max_tokens=350,\n",
    "                                temperature=0.1,\n",
    "                                top_p=0.8, frequency_penalty=1.17, top_k=40)"
   ]
  },
  {
   "cell_type": "code",
   "execution_count": null,
   "id": "ef557dc7-4f72-4029-bf23-b52733b96d1c",
   "metadata": {},
   "outputs": [],
   "source": [
    "ollama_model(\"tell me about interstellar's plot\")"
   ]
  },
  {
   "cell_type": "code",
   "execution_count": null,
   "id": "8b9df31d-dc08-46fe-8f6d-a31b2f9a430e",
   "metadata": {},
   "outputs": [],
   "source": [
    "dspy.settings.configure(lm=ollama_model, rm=qdrant_retriever_model)"
   ]
  },
  {
   "cell_type": "markdown",
   "id": "726a68ef-ee92-4676-a911-d4f8c5227a00",
   "metadata": {},
   "source": [
    "## Define Signatures for Input and Output\n",
    "\n",
    "### TODO \n",
    "- Add dspy assertions to enforce the output to be a list of classes"
   ]
  },
  {
   "cell_type": "code",
   "execution_count": null,
   "id": "fb2b8ce0-6dd9-48e3-8e6c-1f5f6456d7a9",
   "metadata": {},
   "outputs": [],
   "source": [
    "# class RetrieveLabelCandidates(dspy.Signature):\n",
    "#     \"\"\"Retrieve relevant label candidates for a given text.\"\"\"\n",
    "#     text = dspy.InputField()\n",
    "#     label_candidates = dspy.OutputField(desc=\"List of potential labels for the given text\")\n",
    "\n",
    "# class ClassifyText(dspy.Signature):\n",
    "#     \"\"\"Classify the text into multiple labels from the given candidates.\"\"\"\n",
    "#     text = dspy.InputField()\n",
    "#     label_candidates = dspy.InputField(desc=\"List of possible labels for the text\")\n",
    "#     labels = dspy.OutputField(desc=\"List of applicable labels for the text\")\n",
    "\n",
    "class ClassifyText(dspy.Signature):\n",
    "    \"\"\"Classify the radiology into multiple labels from the given candidates. You should return the \n",
    "    extracted information as a single JSON string with a key for each candidate label and a value of\n",
    "    1 if the report indicates the presence of the abnormality and 0 otherwise. There should be no \n",
    "    text or explanation, only the JSON. For example if there \n",
    "    were 3 candidates you could have the following output:\n",
    "\n",
    "    {\n",
    "        \"label_1\": 1,\n",
    "        \"label_2\": 0,\n",
    "        \"label_3\": 1\n",
    "    }\"\"\"\n",
    "    text = dspy.InputField()\n",
    "    label_candidates = dspy.InputField(desc=\"List of candidate labels for the text\")\n",
    "    labels = dspy.OutputField(desc=\"Dictionary of candidate labels, 1 or 0, for the text\")"
   ]
  },
  {
   "cell_type": "code",
   "execution_count": null,
   "id": "066c6313-cb5a-4bcf-911c-34aa3f41d129",
   "metadata": {},
   "outputs": [],
   "source": [
    "reports[1]"
   ]
  },
  {
   "cell_type": "code",
   "execution_count": null,
   "id": "49d3af80-f476-4457-a4a6-2c43943ba2ac",
   "metadata": {},
   "outputs": [],
   "source": [
    "ct = ClassifyText(text = reports[1], label_candidates = ','.join(classes), labels='')\n",
    "# ct = ClassifyText(text = reports[1], label_candidates = ','.join(classes))\n",
    "# Need to figure out how to use the retriever model to populate `label_candidates`"
   ]
  },
  {
   "cell_type": "code",
   "execution_count": null,
   "id": "c3fdb5c8-aa1d-46a0-b6e2-68ed749cc854",
   "metadata": {},
   "outputs": [],
   "source": [
    "print(ct.model_construct)"
   ]
  },
  {
   "cell_type": "code",
   "execution_count": null,
   "id": "aa077f98-e746-43b5-8377-c37f432a9e77",
   "metadata": {},
   "outputs": [],
   "source": [
    "# class GenerateAnswer(dspy.Signature):\n",
    "#     \"\"\"Answer questions with short factoid answers.\"\"\"\n",
    "\n",
    "#     context = dspy.InputField(desc=\"may contain relevant facts or answer keywords\")\n",
    "#     question = dspy.InputField()\n",
    "#     answer = dspy.OutputField(desc=\"an answer between 1 to 10 words\")"
   ]
  },
  {
   "cell_type": "code",
   "execution_count": null,
   "id": "680c9861-f299-45c9-9486-2057e4167daf",
   "metadata": {},
   "outputs": [],
   "source": [
    "# ga = GenerateAnswer(context=\"My name is sachin and I like writing blogs\", question=\"What is my name?\", answer=\"Sachin\")\n",
    "# print(ga.model_construct)"
   ]
  },
  {
   "cell_type": "markdown",
   "id": "4c53fe28-cbfe-4444-9ae0-eaf5a60ff7db",
   "metadata": {},
   "source": [
    "## Create a DSPy Module"
   ]
  },
  {
   "cell_type": "code",
   "execution_count": null,
   "id": "dfa94328-7c0a-4c4f-bafc-5b8023352156",
   "metadata": {},
   "outputs": [],
   "source": [
    "# class RAGMultiLabelClassifier(dspy.Module):\n",
    "#     def __init__(self, num_candidates=5):\n",
    "#         super().__init__()\n",
    "#         self.retrieve = dspy.Retrieve(k=num_candidates)\n",
    "#         self.classify = dspy.Predict(ClassifyText)\n",
    "#         self.num_candidates = num_candidates\n",
    "\n",
    "#     def forward(self, text):\n",
    "#         # Retrieve relevant documents\n",
    "#         # retrieved_docs = self.retrieve(text).passages\n",
    "#         retrieved_docs = ','.join(self.retrieve(text).passages)\n",
    "\n",
    "#         # Generate label candidates\n",
    "#         # candidate_result = self.generate_candidates(text=text)\n",
    "#         # label_candidates = candidate_result.label_candidates[:self.num_candidates]\n",
    "\n",
    "#         # Classify text\n",
    "#         classification_result = self.classify(text=text, label_candidates=retrieved_docs)\n",
    "#         return classification_result.labels\n",
    "\n",
    "\n",
    "class RAGMultiLabelClassifier(dspy.Module):\n",
    "    def __init__(self, num_candidates=3):\n",
    "        super().__init__()\n",
    "        self.retrieve = dspy.Retrieve(k=num_candidates)\n",
    "        self.classify = dspy.Predict(ClassifyText)\n",
    "\n",
    "    def forward(self, text):\n",
    "        retrieved_docs = ','.join(self.retrieve(text).passages)\n",
    "        classification_result = self.classify(text=text, label_candidates=retrieved_docs)\n",
    "        return classification_result.labels"
   ]
  },
  {
   "cell_type": "code",
   "execution_count": null,
   "id": "26ed4f86-8743-44bc-ba1a-19edc14abe44",
   "metadata": {},
   "outputs": [],
   "source": [
    "classifier = RAGMultiLabelClassifier()\n",
    "result = classifier(reports[1])\n",
    "print(result)"
   ]
  },
  {
   "cell_type": "code",
   "execution_count": null,
   "id": "bab6f4f9-a8a3-4318-8e08-71d56f77d547",
   "metadata": {},
   "outputs": [],
   "source": [
    "ollama_model.inspect_history(n=1)"
   ]
  },
  {
   "cell_type": "code",
   "execution_count": null,
   "id": "3f49bea9-df14-4b2b-9c9b-12232fb49872",
   "metadata": {},
   "outputs": [],
   "source": []
  }
 ],
 "metadata": {
  "kernelspec": {
   "display_name": "Python 3 (ipykernel)",
   "language": "python",
   "name": "python3"
  },
  "language_info": {
   "codemirror_mode": {
    "name": "ipython",
    "version": 3
   },
   "file_extension": ".py",
   "mimetype": "text/x-python",
   "name": "python",
   "nbconvert_exporter": "python",
   "pygments_lexer": "ipython3",
   "version": "3.11.9"
  }
 },
 "nbformat": 4,
 "nbformat_minor": 5
}
