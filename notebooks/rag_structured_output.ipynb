{
 "cells": [
  {
   "cell_type": "markdown",
   "id": "83c70f87-738b-432e-9ef6-254c5a8c3b62",
   "metadata": {},
   "source": [
    "This notebook follows the following post [here](https://pub.towardsai.net/structured-data-extraction-from-llms-using-dspy-assertions-and-qdrant-bf65632f02b0)"
   ]
  },
  {
   "cell_type": "code",
   "execution_count": null,
   "id": "5e443bd3-dfdd-4dc3-afdf-48676816ea9c",
   "metadata": {},
   "outputs": [],
   "source": []
  }
 ],
 "metadata": {
  "kernelspec": {
   "display_name": "Python 3 (ipykernel)",
   "language": "python",
   "name": "python3"
  },
  "language_info": {
   "codemirror_mode": {
    "name": "ipython",
    "version": 3
   },
   "file_extension": ".py",
   "mimetype": "text/x-python",
   "name": "python",
   "nbconvert_exporter": "python",
   "pygments_lexer": "ipython3",
   "version": "3.11.9"
  }
 },
 "nbformat": 4,
 "nbformat_minor": 5
}
