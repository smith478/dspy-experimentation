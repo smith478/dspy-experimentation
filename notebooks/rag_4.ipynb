{
 "cells": [
  {
   "cell_type": "markdown",
   "id": "0c62af6c-237d-4dee-81b8-c677e6857c25",
   "metadata": {},
   "source": [
    "Follows along with the video [here](https://www.youtube.com/watch?v=CEuUG4Umfxs&ab_channel=ConnorShorten) with some modifications"
   ]
  },
  {
   "cell_type": "code",
   "execution_count": 1,
   "id": "2ce640d8-00ba-4a93-848e-a94b4599a1f6",
   "metadata": {},
   "outputs": [
    {
     "name": "stderr",
     "output_type": "stream",
     "text": [
      "/opt/miniconda3/envs/label-extractor/lib/python3.11/site-packages/tqdm/auto.py:21: TqdmWarning: IProgress not found. Please update jupyter and ipywidgets. See https://ipywidgets.readthedocs.io/en/stable/user_install.html\n",
      "  from .autonotebook import tqdm as notebook_tqdm\n"
     ]
    }
   ],
   "source": [
    "import dspy\n",
    "from dspy.retrieve.qdrant_rm import QdrantRM\n",
    "from qdrant_client import QdrantClient"
   ]
  },
  {
   "cell_type": "code",
   "execution_count": null,
   "id": "fac6f4db-e641-4430-9507-8b8e3e275799",
   "metadata": {},
   "outputs": [],
   "source": [
    "qdrant_client = QdrantClient(\":memory:\")  # In-memory load"
   ]
  }
 ],
 "metadata": {
  "kernelspec": {
   "display_name": "Python 3 (ipykernel)",
   "language": "python",
   "name": "python3"
  },
  "language_info": {
   "codemirror_mode": {
    "name": "ipython",
    "version": 3
   },
   "file_extension": ".py",
   "mimetype": "text/x-python",
   "name": "python",
   "nbconvert_exporter": "python",
   "pygments_lexer": "ipython3",
   "version": "3.11.9"
  }
 },
 "nbformat": 4,
 "nbformat_minor": 5
}
