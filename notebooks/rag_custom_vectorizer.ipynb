{
 "cells": [
  {
   "cell_type": "markdown",
   "id": "39c5c45a-1270-4458-a235-99c51157fc55",
   "metadata": {},
   "source": [
    "This notebook follows the following post [here](https://dgallitelli95.medium.com/building-robust-ai-systems-with-dspy-and-amazon-bedrock-d0376f158d88)\n",
    "\n",
    "Documentation in DSPy\n",
    "- faiss rm: https://github.com/stanfordnlp/dspy/blob/main/dspy/retrieve/faiss_rm.py\n",
    "- built on sentence transformer: https://github.com/stanfordnlp/dspy/blob/main/dsp/modules/sentence_vectorizer.py"
   ]
  },
  {
   "cell_type": "code",
   "execution_count": null,
   "id": "afddf34d-4e78-4009-b6f2-1ad9d63dff4e",
   "metadata": {},
   "outputs": [],
   "source": []
  }
 ],
 "metadata": {
  "kernelspec": {
   "display_name": "Python 3 (ipykernel)",
   "language": "python",
   "name": "python3"
  },
  "language_info": {
   "codemirror_mode": {
    "name": "ipython",
    "version": 3
   },
   "file_extension": ".py",
   "mimetype": "text/x-python",
   "name": "python",
   "nbconvert_exporter": "python",
   "pygments_lexer": "ipython3",
   "version": "3.11.9"
  }
 },
 "nbformat": 4,
 "nbformat_minor": 5
}
