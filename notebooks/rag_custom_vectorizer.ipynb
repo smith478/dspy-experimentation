{
 "cells": [
  {
   "cell_type": "markdown",
   "id": "39c5c45a-1270-4458-a235-99c51157fc55",
   "metadata": {},
   "source": [
    "This notebook follows the following post [here](https://dgallitelli95.medium.com/building-robust-ai-systems-with-dspy-and-amazon-bedrock-d0376f158d88)\n",
    "\n",
    "Documentation in DSPy\n",
    "- faiss rm: https://github.com/stanfordnlp/dspy/blob/main/dspy/retrieve/faiss_rm.py\n",
    "- built on sentence transformer: https://github.com/stanfordnlp/dspy/blob/main/dsp/modules/sentence_vectorizer.py"
   ]
  },
  {
   "cell_type": "code",
   "execution_count": null,
   "id": "0dab90d7-ba18-44df-bde0-50a91e6b8b38",
   "metadata": {},
   "outputs": [],
   "source": [
    "from dspy.retrieve.qdrant_rm import QdrantRM\n",
    "from qdrant_client import QdrantClient\n",
    "from qdrant_client.models import PointStruct, VectorParams\n",
    "import numpy as np"
   ]
  },
  {
   "cell_type": "markdown",
   "id": "0be9797e-60e2-41e1-941f-60bbbf343adf",
   "metadata": {},
   "source": [
    "## Sample dataset"
   ]
  },
  {
   "cell_type": "code",
   "execution_count": null,
   "id": "c4539723-4497-4a6e-91da-6bbc7a42618e",
   "metadata": {},
   "outputs": [],
   "source": [
    "classes = [\"pulmonary edema\", \"consolidation\", \"pleural effusion\", \"pneumothorax\", \"cardiomegaly\"]"
   ]
  },
  {
   "cell_type": "code",
   "execution_count": null,
   "id": "dc921584-2bf4-4415-bd63-91c0f4531d14",
   "metadata": {},
   "outputs": [],
   "source": [
    "reports = [\n",
    "    \"\"\"\n",
    "    RADIOLOGY REPORT\n",
    "\n",
    "    Exam\n",
    "    PA and lateral chest radiograph (2 views) (2 images) Date: XXXX, XXXX at XXXX hours Indication: Chest pain. Comparison: Chest radiograph from XXXX, XXXX. Findings: The cardiac silhouette is borderline enlarged. Otherwise, there is no focal opacity. Mediastinal contours are within normal limits. There is no large pleural effusion. No pneumothorax. Transcribed by - PSCB Transcription Date - XXXX\n",
    "\n",
    "    IMPRESSION\n",
    "    Borderline enlargement of the cardiac silhouette without acute pulmonary disease. DICTATED BY : Dr. XXXX XXXX XXXX XXXX XXXX ELECTRONICALLY SIGNED XXXX. XXXX XXXX XXXX XXXX XXXX TRANSCRIBED XXXX 11 XXXX XXXX  RADRES XXXX\n",
    "\n",
    "    SIGNATURE\n",
    "    XXXX\n",
    "    \"\"\",\n",
    "    \"\"\"\n",
    "    RADIOLOGY REPORT\n",
    "\n",
    "    Exam\n",
    "    PA and lateral chest radiograph (2 views) (2 images) Date: XXXX, XXXX at XXXX hours Indication: Shortness of breath. Comparison: Chest radiograph from XXXX, XXXX. Findings: There is evidence of bilateral pulmonary edema. The cardiac silhouette is normal. No pleural effusion or pneumothorax. Transcribed by - PSCB Transcription Date - XXXX\n",
    "\n",
    "    IMPRESSION\n",
    "    Bilateral pulmonary edema. No evidence of pleural effusion or pneumothorax. DICTATED BY : Dr. XXXX XXXX XXXX XXXX XXXX ELECTRONICALLY SIGNED XXXX. XXXX XXXX XXXX XXXX XXXX TRANSCRIBED XXXX 11 XXXX XXXX  RADRES XXXX\n",
    "\n",
    "    SIGNATURE\n",
    "    XXXX\n",
    "    \"\"\",\n",
    "    \"\"\"\n",
    "    RADIOLOGY REPORT\n",
    "\n",
    "    Exam\n",
    "    PA and lateral chest radiograph (2 views) (2 images) Date: XXXX, XXXX at XXXX hours Indication: Cough and fever. Comparison: Chest radiograph from XXXX, XXXX. Findings: There is consolidation in the right lower lobe. The cardiac silhouette is normal. No pleural effusion or pneumothorax. Transcribed by - PSCB Transcription Date - XXXX\n",
    "\n",
    "    IMPRESSION\n",
    "    Right lower lobe consolidation. No pleural effusion or pneumothorax. DICTATED BY : Dr. XXXX XXXX XXXX XXXX XXXX ELECTRONICALLY SIGNED XXXX. XXXX XXXX XXXX XXXX XXXX TRANSCRIBED XXXX 11 XXXX XXXX  RADRES XXXX\n",
    "\n",
    "    SIGNATURE\n",
    "    XXXX\n",
    "    \"\"\",\n",
    "    \"\"\"\n",
    "    RADIOLOGY REPORT\n",
    "\n",
    "    Exam\n",
    "    PA and lateral chest radiograph (2 views) (2 images) Date: XXXX, XXXX at XXXX hours Indication: Chest pain. Comparison: Chest radiograph from XXXX, XXXX. Findings: There is a small left pleural effusion. The cardiac silhouette is normal. No pneumothorax. Transcribed by - PSCB Transcription Date - XXXX\n",
    "\n",
    "    IMPRESSION\n",
    "    Small left pleural effusion. No pneumothorax. DICTATED BY : Dr. XXXX XXXX XXXX XXXX XXXX ELECTRONICALLY SIGNED XXXX. XXXX XXXX XXXX XXXX XXXX TRANSCRIBED XXXX 11 XXXX XXXX  RADRES XXXX\n",
    "\n",
    "    SIGNATURE\n",
    "    XXXX\n",
    "    \"\"\",\n",
    "    \"\"\"\n",
    "    RADIOLOGY REPORT\n",
    "\n",
    "    Exam\n",
    "    PA and lateral chest radiograph (2 views) (2 images) Date: XXXX, XXXX at XXXX hours Indication: Trauma. Comparison: Chest radiograph from XXXX, XXXX. Findings: There is a right-sided pneumothorax. The cardiac silhouette is normal. No pleural effusion. Transcribed by - PSCB Transcription Date - XXXX\n",
    "\n",
    "    IMPRESSION\n",
    "    Right-sided pneumothorax. No pleural effusion. DICTATED BY : Dr. XXXX XXXX XXXX XXXX XXXX ELECTRONICALLY SIGNED XXXX. XXXX XXXX XXXX XXXX XXXX TRANSCRIBED XXXX 11 XXXX XXXX  RADRES XXXX\n",
    "\n",
    "    SIGNATURE\n",
    "    XXXX\n",
    "    \"\"\",\n",
    "    \"\"\"\n",
    "    RADIOLOGY REPORT\n",
    "\n",
    "    Exam\n",
    "    PA and lateral chest radiograph (2 views) (2 images) Date: XXXX, XXXX at XXXX hours Indication: Shortness of breath and leg swelling. Comparison: Chest radiograph from XXXX, XXXX. Findings: There is moderate pulmonary edema and bilateral pleural effusion. The cardiac silhouette is enlarged. No pneumothorax. Transcribed by - PSCB Transcription Date - XXXX\n",
    "\n",
    "    IMPRESSION\n",
    "    Moderate pulmonary edema and bilateral pleural effusion. Cardiomegaly. No pneumothorax. DICTATED BY : Dr. XXXX XXXX XXXX XXXX XXXX ELECTRONICALLY SIGNED XXXX. XXXX XXXX XXXX XXXX XXXX TRANSCRIBED XXXX 11 XXXX XXXX  RADRES XXXX\n",
    "\n",
    "    SIGNATURE\n",
    "    XXXX\n",
    "    \"\"\",\n",
    "    \"\"\"\n",
    "    RADIOLOGY REPORT\n",
    "\n",
    "    Exam\n",
    "    PA and lateral chest radiograph (2 views) (2 images) Date: XXXX, XXXX at XXXX hours Indication: Fever and cough. Comparison: Chest radiograph from XXXX, XXXX. Findings: There is a consolidation in the left upper lobe. The cardiac silhouette is normal. No pleural effusion or pneumothorax. Transcribed by - PSCB Transcription Date - XXXX\n",
    "\n",
    "    IMPRESSION\n",
    "    Left upper lobe consolidation. No pleural effusion or pneumothorax. DICTATED BY : Dr. XXXX XXXX XXXX XXXX XXXX ELECTRONICALLY SIGNED XXXX. XXXX XXXX XXXX XXXX XXXX TRANSCRIBED XXXX 11 XXXX XXXX  RADRES XXXX\n",
    "\n",
    "    SIGNATURE\n",
    "    XXXX\n",
    "    \"\"\",\n",
    "    \"\"\"\n",
    "    RADIOLOGY REPORT\n",
    "\n",
    "    Exam\n",
    "    PA and lateral chest radiograph (2 views) (2 images) Date: XXXX, XXXX at XXXX hours Indication: Routine check-up. Comparison: Chest radiograph from XXXX, XXXX. Findings: The cardiac silhouette is normal. No focal opacity. Mediastinal contours are within normal limits. There is no pleural effusion or pneumothorax. Transcribed by - PSCB Transcription Date - XXXX\n",
    "\n",
    "    IMPRESSION\n",
    "    Normal chest radiograph. No abnormalities detected. DICTATED BY : Dr. XXXX XXXX XXXX XXXX XXXX ELECTRONICALLY SIGNED XXXX. XXXX XXXX XXXX XXXX XXXX TRANSCRIBED XXXX 11 XXXX XXXX  RADRES XXXX\n",
    "\n",
    "    SIGNATURE\n",
    "    XXXX\n",
    "    \"\"\",\n",
    "    \"\"\"\n",
    "    RADIOLOGY REPORT\n",
    "\n",
    "    Exam\n",
    "    PA and lateral chest radiograph (2 views) (2 images) Date: XXXX, XXXX at XXXX hours Indication: Dyspnea. Comparison: Chest radiograph from XXXX, XXXX. Findings: There is mild cardiomegaly. Bilateral pleural effusions are present. No evidence of pneumothorax. Transcribed by - PSCB Transcription Date - XXXX\n",
    "\n",
    "    IMPRESSION\n",
    "    Mild cardiomegaly with bilateral pleural effusions. No pneumothorax. DICTATED BY : Dr. XXXX XXXX XXXX XXXX XXXX ELECTRONICALLY SIGNED XXXX. XXXX XXXX XXXX XXXX XXXX TRANSCRIBED XXXX 11 XXXX XXXX  RADRES XXXX\n",
    "\n",
    "    SIGNATURE\n",
    "    XXXX\n",
    "    \"\"\",\n",
    "    \"\"\"\n",
    "    RADIOLOGY REPORT\n",
    "\n",
    "    Exam\n",
    "    PA and lateral chest radiograph (2 views) (2 images) Date: XXXX, XXXX at XXXX hours Indication: Trauma. Comparison: Chest radiograph from XXXX, XXXX. Findings: There is a left-sided pneumothorax. The cardiac silhouette is normal. No pleural effusion. Transcribed by - PSCB Transcription Date - XXXX\n",
    "\n",
    "    IMPRESSION\n",
    "    Left-sided pneumothorax. No pleural effusion. DICTATED BY : Dr. XXXX XXXX XXXX XXXX XXXX ELECTRONICALLY SIGNED XXXX. XXXX XXXX XXXX XXXX XXXX TRANSCRIBED XXXX 11 XXXX XXXX  RADRES XXXX\n",
    "\n",
    "    SIGNATURE\n",
    "    XXXX\n",
    "    \"\"\"\n",
    "]\n",
    "\n",
    "# Ground Truth Labels for each report\n",
    "ground_truth = [\n",
    "    [\"cardiomegaly\"],\n",
    "    [\"pulmonary edema\"],\n",
    "    [\"consolidation\"],\n",
    "    [\"pleural_effusion\"],\n",
    "    [\"pneumothorax\"],\n",
    "    [\"pulmonary edema\", \"pleural effusion\", \"cardiomegaly\"],\n",
    "    [\"consolidation\"],\n",
    "    [],\n",
    "    [\"cardiomegaly\", \"pleural effusion\"],\n",
    "    [\"pneumothorax\"]\n",
    "]\n"
   ]
  },
  {
   "cell_type": "markdown",
   "id": "30db1c20-70ee-4c93-9045-9db02c43b288",
   "metadata": {},
   "source": [
    "## Retrieval model with custom vectorizer"
   ]
  },
  {
   "cell_type": "code",
   "execution_count": null,
   "id": "a84793bd-9f28-4709-ba12-66d00c5ca10b",
   "metadata": {},
   "outputs": [],
   "source": [
    "# from dsp.modules import sentence_vectorizer\n",
    "\n",
    "# vectorizer = sentence_vectorizer.SentenceTransformersVectorizer()\n",
    "# vectorizer = sentence_vectorizer.SentenceTransformersVectorizer(\"all-MiniLM-L12-v2\")\n",
    "# vectorizer = sentence_vectorizer.SentenceTransformersVectorizer(\"all-mpnet-base-v2\")\n",
    "\n",
    "# Test different values of `model_name_or_path` from sentence_transformers, default = \"all-MiniLM-L6-v2\""
   ]
  },
  {
   "cell_type": "code",
   "execution_count": null,
   "id": "c013d7e7-5b1b-45ec-b8e3-e99f48f4a9ed",
   "metadata": {},
   "outputs": [],
   "source": [
    "# def build_retriever_client(labels, collection_name, k, vectorizer = None):\n",
    "#     client = QdrantClient(\":memory:\")\n",
    "#     ids = list(range(0, len(labels)))\n",
    "\n",
    "#     # If you want to change the model: (reference: https://github.com/qdrant/fastembed?tab=readme-ov-file#usage-with-qdrant)\n",
    "#     # client.set_model(\"sentence-transformers/all-MiniLM-L6-v2\")\n",
    "#     # List of supported models: https://qdrant.github.io/fastembed/examples/Supported_Models\n",
    "\n",
    "#     if vectorizer is not None:\n",
    "#         client.add(\n",
    "#             collection_name=collection_name,\n",
    "#             documents=labels,\n",
    "#             ids=ids\n",
    "#         )\n",
    "#     else:\n",
    "#         # Embed the documents using your custom vectorizer\n",
    "#         embedded_docs = [vectorizer(label) for label in labels]\n",
    "        \n",
    "#         # Get the vector size from the first embedded document\n",
    "#         vector_size = len(embedded_docs[0])\n",
    "        \n",
    "#         # Create the collection\n",
    "#         client.create_collection(\n",
    "#             collection_name=collection_name,\n",
    "#             vectors_config=VectorParams(size=vector_size, distance=\"Cosine\")\n",
    "#         )\n",
    "        \n",
    "#         # Create PointStruct objects\n",
    "#         points = [\n",
    "#             PointStruct(\n",
    "#                 id=idx,\n",
    "#                 vector=embedded_doc.tolist(),\n",
    "#                 payload={\"text\": label}\n",
    "#             )\n",
    "#             for idx, (label, embedded_doc) in enumerate(zip(labels, embedded_docs))\n",
    "#         ]\n",
    "        \n",
    "#         # Add the embedded documents to Qdrant\n",
    "#         client.upsert(\n",
    "#             collection_name=collection_name,\n",
    "#             points=points\n",
    "#         )\n",
    "\n",
    "#     qdrant_retriever_model = QdrantRM(collection_name, client, k=k)\n",
    "\n",
    "#     return qdrant_retriever_model"
   ]
  },
  {
   "cell_type": "code",
   "execution_count": null,
   "id": "782b26f1-2df7-45da-bcf7-a9c4ed0f7081",
   "metadata": {},
   "outputs": [],
   "source": [
    "def build_retriever_client(labels, collection_name, k, vectorizer = None):\n",
    "    client = QdrantClient(\":memory:\")\n",
    "    ids = list(range(0, len(labels)))\n",
    "\n",
    "    # If you want to change the model: (reference: https://github.com/qdrant/fastembed?tab=readme-ov-file#usage-with-qdrant)\n",
    "    # client.set_model(\"sentence-transformers/all-MiniLM-L6-v2\")\n",
    "    # List of supported models: https://qdrant.github.io/fastembed/examples/Supported_Models\n",
    "\n",
    "    if vectorizer is not None:\n",
    "        client.set_model(vectorizer)\n",
    "        \n",
    "    client.add(\n",
    "        collection_name=collection_name,\n",
    "        documents=labels,\n",
    "        ids=ids\n",
    "    )\n",
    "\n",
    "    qdrant_retriever_model = QdrantRM(collection_name, client, k=k)\n",
    "\n",
    "    return qdrant_retriever_model"
   ]
  },
  {
   "cell_type": "code",
   "execution_count": null,
   "id": "682495f6-6365-4083-8895-fb43570ca6b3",
   "metadata": {},
   "outputs": [],
   "source": [
    "# qdrant_retriever_model = build_retriever_client(labels=classes, collection_name=\"rad\", k=3)\n",
    "qdrant_retriever_model = build_retriever_client(labels=classes, collection_name=\"rad\", k=3, vectorizer=\"sentence-transformers/all-MiniLM-L6-v2\")\n",
    "# qdrant_retriever_model = build_retriever_client(labels=classes, collection_name=\"rad\", k=3, vectorizer=\"nomic-ai/nomic-embed-text-v1.5-Q\")\n",
    "# qdrant_retriever_model = build_retriever_client(labels=classes, collection_name=\"rad\", k=3, vectorizer=\"BAAI/bge-large-en-v1.5\")\n",
    "# qdrant_retriever_model = build_retriever_client(labels=classes, collection_name=\"rad\", k=3, vectorizer=\"intfloat/multilingual-e5-large\")\n"
   ]
  },
  {
   "cell_type": "code",
   "execution_count": null,
   "id": "0e9bfb31-2e3a-465d-be82-e3655493c71c",
   "metadata": {},
   "outputs": [],
   "source": [
    "client = QdrantClient(\":memory:\")\n",
    "docs = classes\n",
    "ids = list(range(0, len(docs)))\n",
    "\n",
    "# Embed the documents using your custom vectorizer\n",
    "embedded_docs = [vectorizer(doc) for doc in docs]\n",
    "\n",
    "# Get the vector size from the first embedded document\n",
    "vector_size = len(embedded_docs[0])\n",
    "\n",
    "# Create the collection\n",
    "client.create_collection(\n",
    "    collection_name=\"rad\",\n",
    "    vectors_config=VectorParams(size=vector_size, distance=\"Cosine\")\n",
    ")\n",
    "\n",
    "# Create PointStruct objects\n",
    "points = [\n",
    "    PointStruct(\n",
    "        id=idx,\n",
    "        vector=embedded_doc.tolist(),\n",
    "        payload={\"text\": doc}\n",
    "    )\n",
    "    for idx, (doc, embedded_doc) in enumerate(zip(docs, embedded_docs))\n",
    "]\n",
    "\n",
    "# Add the embedded documents to Qdrant\n",
    "client.upsert(\n",
    "    collection_name=\"rad\",\n",
    "    points=points\n",
    ")"
   ]
  },
  {
   "cell_type": "code",
   "execution_count": null,
   "id": "ad19468b-803f-450a-9b3c-a36ec2f20f5a",
   "metadata": {},
   "outputs": [],
   "source": [
    "qdrant_retriever_model = QdrantRM(\"rad\", client, k=3)"
   ]
  },
  {
   "cell_type": "code",
   "execution_count": null,
   "id": "1cc643b1-6fca-4f22-ab6a-57d85250741c",
   "metadata": {},
   "outputs": [],
   "source": []
  },
  {
   "cell_type": "markdown",
   "id": "fd3f9b45-f2f2-43c7-9dd9-95787c415fe3",
   "metadata": {},
   "source": [
    "## Retrieval model"
   ]
  },
  {
   "cell_type": "code",
   "execution_count": null,
   "id": "80639a9a-2c3e-4ac0-b6fe-d9a7b94d968f",
   "metadata": {},
   "outputs": [],
   "source": [
    "from dspy.retrieve.qdrant_rm import QdrantRM\n",
    "from qdrant_client import QdrantClient"
   ]
  },
  {
   "cell_type": "code",
   "execution_count": null,
   "id": "7c0b361a-e890-4735-ad90-0357ed02d80b",
   "metadata": {},
   "outputs": [],
   "source": [
    "client = QdrantClient(\":memory:\")"
   ]
  },
  {
   "cell_type": "code",
   "execution_count": null,
   "id": "48ff0853-180c-410d-bd8e-e75023b43fd7",
   "metadata": {},
   "outputs": [],
   "source": [
    "docs = classes\n",
    "ids = list(range(0,len(docs)))"
   ]
  },
  {
   "cell_type": "code",
   "execution_count": null,
   "id": "50c77d9c-688a-4c34-9174-7890fe20c227",
   "metadata": {},
   "outputs": [],
   "source": [
    "client.add(\n",
    "    collection_name=\"rad\",\n",
    "    documents=docs,\n",
    "    ids=ids\n",
    "    )"
   ]
  },
  {
   "cell_type": "code",
   "execution_count": null,
   "id": "b3e10f3f-73a5-463e-8702-c14c0991f5b7",
   "metadata": {},
   "outputs": [],
   "source": [
    "qdrant_retriever_model = QdrantRM(\"rad\", client, k=3)"
   ]
  },
  {
   "cell_type": "code",
   "execution_count": null,
   "id": "da00d153-dfcd-45d6-8607-43b2ea6ffe2e",
   "metadata": {},
   "outputs": [],
   "source": [
    "reports[0]"
   ]
  },
  {
   "cell_type": "code",
   "execution_count": null,
   "id": "e7c36779-2566-42ee-8c78-a7c1121970eb",
   "metadata": {},
   "outputs": [],
   "source": [
    "n = 8\n",
    "print(reports[n])\n",
    "print(ground_truth[n])\n",
    "print(qdrant_retriever_model.forward(reports[n], k=3))"
   ]
  },
  {
   "cell_type": "markdown",
   "id": "f89ba0fa-a9c2-4875-89a3-1e5c9453c470",
   "metadata": {},
   "source": [
    "## Retrieval metrics\n",
    "\n",
    "### TODO\n",
    "- Add code to loop through the examples and save off the ground truth label, position, model name. This will allow us to see how well ensembling will work, and if there are certain examples that work well with some models but not others."
   ]
  },
  {
   "cell_type": "code",
   "execution_count": null,
   "id": "dfbedcfd-12a7-4120-ac07-ba914ff6ff27",
   "metadata": {},
   "outputs": [],
   "source": [
    "positions = []\n",
    "top_k = 0\n",
    "for report, labels in zip(reports, ground_truth):\n",
    "    results = qdrant_retriever_model.forward(report, k=5)\n",
    "    results_list = [elt['long_text'] for elt in results]\n",
    "\n",
    "    for label in labels:\n",
    "        if label in results_list:\n",
    "            position = results_list.index(label) + 1\n",
    "            top_k += 1\n",
    "        else:\n",
    "            position = len(results_list)\n",
    "        positions.append(position)"
   ]
  },
  {
   "cell_type": "code",
   "execution_count": null,
   "id": "48a951fd-fd3a-4776-aff4-df1a30d594f1",
   "metadata": {},
   "outputs": [],
   "source": [
    "import statistics\n",
    "import numpy as np\n",
    "import matplotlib.pyplot as plt"
   ]
  },
  {
   "cell_type": "code",
   "execution_count": null,
   "id": "e8cf8a97-1b0f-4b87-9f18-e95a2a2bccfa",
   "metadata": {},
   "outputs": [],
   "source": [
    "# Calculate summary statistics\n",
    "mean_value = statistics.mean(positions)\n",
    "median_value = statistics.median(positions)\n",
    "mode_value = statistics.mode(positions)\n",
    "percentile_95 = np.percentile(positions, 95)\n",
    "\n",
    "print(f\"Mean: {mean_value}\")\n",
    "print(f\"Median: {median_value}\")\n",
    "print(f\"Mode: {mode_value}\")\n",
    "print(f\"95th Percentile: {percentile_95}\")\n",
    "\n",
    "# Plot histogram\n",
    "plt.hist(positions, bins=5, edgecolor='black')\n",
    "plt.title('Histogram of Retrieval Positions')\n",
    "plt.xlabel('Value')\n",
    "plt.ylabel('Frequency')\n",
    "plt.show()"
   ]
  },
  {
   "cell_type": "code",
   "execution_count": null,
   "id": "bd271665-d345-488d-9784-b260245eaa08",
   "metadata": {},
   "outputs": [],
   "source": []
  },
  {
   "cell_type": "code",
   "execution_count": null,
   "id": "b3feb8c8-9dce-45bd-a157-4930b0e7d0f3",
   "metadata": {},
   "outputs": [],
   "source": []
  },
  {
   "cell_type": "code",
   "execution_count": null,
   "id": "3f076ce3-5c75-4dde-9627-c77375ce8a88",
   "metadata": {},
   "outputs": [],
   "source": [
    "from dspy.retrieve.faiss_rm import FaissRM\n",
    "# from dspy.dsp.modules.sentence_vectorizer import SentenceTransformersVectorizer\n",
    "\n",
    "document_chunks = reports"
   ]
  },
  {
   "cell_type": "code",
   "execution_count": null,
   "id": "afddf34d-4e78-4009-b6f2-1ad9d63dff4e",
   "metadata": {},
   "outputs": [],
   "source": [
    "rm = FaissRM(\n",
    "    document_chunks=document_chunks\n",
    "    # vectorizer=SentenceTransformersVectorizer\n",
    ")\n",
    "print(rm([\"Provide your question here\"]))"
   ]
  },
  {
   "cell_type": "code",
   "execution_count": null,
   "id": "a9beff5e-eb4e-41b0-a92a-25854f7ce43c",
   "metadata": {},
   "outputs": [],
   "source": []
  }
 ],
 "metadata": {
  "kernelspec": {
   "display_name": "Python 3 (ipykernel)",
   "language": "python",
   "name": "python3"
  },
  "language_info": {
   "codemirror_mode": {
    "name": "ipython",
    "version": 3
   },
   "file_extension": ".py",
   "mimetype": "text/x-python",
   "name": "python",
   "nbconvert_exporter": "python",
   "pygments_lexer": "ipython3",
   "version": "3.11.9"
  }
 },
 "nbformat": 4,
 "nbformat_minor": 5
}
